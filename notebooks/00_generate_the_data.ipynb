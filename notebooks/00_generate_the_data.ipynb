{
 "cells": [
  {
   "cell_type": "markdown",
   "metadata": {},
   "source": [
    "## Let's generate some data"
   ]
  },
  {
   "cell_type": "code",
   "execution_count": 1,
   "metadata": {},
   "outputs": [
    {
     "name": "stdout",
     "output_type": "stream",
     "text": [
      "Generated data saved to 'data.csv'\n"
     ]
    }
   ],
   "source": [
    "import pandas as pd\n",
    "import numpy as np\n",
    "\n",
    "# Set a seed for reproducibility\n",
    "np.random.seed(42)\n",
    "\n",
    "# Function to generate random data w\n",
    "def generate_data(num_rows=300):\n",
    "    # Generate features\n",
    "    digital = np.random.uniform(0, 300, num_rows)\n",
    "    social_media = np.random.uniform(0, 50, num_rows)\n",
    "    influencer_marketing = np.random.uniform(0, 100, num_rows)\n",
    "    \n",
    "    #the Y \n",
    "    sales_noise = np.random.normal(0, 20, num_rows)\n",
    "    sales = 0.5 * digital + 0.2 * social_media + 0.3 * influencer_marketing + sales_noise\n",
    "    \n",
    "    authenticity_condition = (digital > 150) & (social_media > 20)\n",
    "    authenticity = np.where(authenticity_condition, True, False)\n",
    "    \n",
    "    # Create a DataFrame\n",
    "    data = {\n",
    "        'Digital': digital,\n",
    "        'Social_Media': social_media,\n",
    "        'Influencer_Marketing': influencer_marketing,\n",
    "        'Sales': sales,\n",
    "        'Authenticity': authenticity,\n",
    "    }\n",
    "    \n",
    "    return pd.DataFrame(data)\n",
    "\n",
    "DATA = generate_data()\n",
    "\n",
    "# Save the data to a CSV file\n",
    "DATA.to_csv('../data/raw/data.csv', index=False)\n",
    "\n",
    "print(\"Generated data saved to 'data.csv'\")\n"
   ]
  },
  {
   "cell_type": "code",
   "execution_count": null,
   "metadata": {},
   "outputs": [],
   "source": []
  }
 ],
 "metadata": {
  "kernelspec": {
   "display_name": "Python 3",
   "language": "python",
   "name": "python3"
  },
  "language_info": {
   "codemirror_mode": {
    "name": "ipython",
    "version": 3
   },
   "file_extension": ".py",
   "mimetype": "text/x-python",
   "name": "python",
   "nbconvert_exporter": "python",
   "pygments_lexer": "ipython3",
   "version": "3.12.0"
  }
 },
 "nbformat": 4,
 "nbformat_minor": 2
}
