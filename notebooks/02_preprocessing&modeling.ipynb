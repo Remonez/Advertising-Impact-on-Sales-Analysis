{
 "cells": [
  {
   "cell_type": "code",
   "execution_count": 46,
   "metadata": {},
   "outputs": [],
   "source": [
    "# Load packages\n",
    "import pandas as pd\n",
    "import numpy as np\n",
    "from sklearn.preprocessing import StandardScaler\n",
    "from sklearn.model_selection import train_test_split\n",
    "from sklearn.linear_model import LinearRegression\n",
    "from sklearn.metrics import mean_squared_error\n",
    "from sklearn.linear_model import LinearRegression, Ridge, Lasso\n",
    "from sklearn.tree import DecisionTreeRegressor\n",
    "from sklearn.ensemble import RandomForestRegressor, GradientBoostingRegressor\n",
    "from sklearn.model_selection import GridSearchCV\n",
    "from sklearn.svm import SVR\n",
    "from sklearn.ensemble import StackingRegressor"
   ]
  },
  {
   "cell_type": "code",
   "execution_count": 47,
   "metadata": {},
   "outputs": [],
   "source": [
    "# Load data\n",
    "DATA_PATH =\"../data/raw/df1.pkl\"\n",
    "df = pd.read_pickle(DATA_PATH)\n"
   ]
  },
  {
   "cell_type": "code",
   "execution_count": 48,
   "metadata": {},
   "outputs": [],
   "source": [
    "# let's have some scaling\n",
    "standard_scaler = StandardScaler()\n",
    "df = pd.DataFrame(standard_scaler.fit_transform(df), columns=df.columns)"
   ]
  },
  {
   "cell_type": "code",
   "execution_count": 49,
   "metadata": {},
   "outputs": [],
   "source": [
    "# spseparate X and Y , 'Sales' is the target variable\n",
    "X = df[['Digital', 'Social_Media', 'Influencer_Marketing', 'Authenticity']]\n",
    "y = df['Sales']\n",
    "\n",
    "# Split the data\n",
    "X_train, X_test, y_train, y_test = train_test_split(X, y, test_size=0.2, random_state=42)\n"
   ]
  },
  {
   "cell_type": "code",
   "execution_count": 50,
   "metadata": {},
   "outputs": [
    {
     "name": "stdout",
     "output_type": "stream",
     "text": [
      "Model Score: 0.79%\n",
      "Mean Squared Error (MSE): 0.19461105296215594\n"
     ]
    }
   ],
   "source": [
    "# We'll start with a simple Linear Regression model as a baseline to establish a basic understanding\n",
    "model = LinearRegression()\n",
    "\n",
    "model.fit(X_train, y_train)\n",
    "y_pred = model.predict(X_test)\n",
    "\n",
    "score = model.score(X_test, y_test)\n",
    "\n",
    "print(f\"Model Score: {score:.2f}%\")\n",
    "\n",
    "# Calculate Mean Squared Error (MSE) as the evaluation metric\n",
    "mse = mean_squared_error(y_test, y_pred)\n",
    "\n",
    "print(\"Mean Squared Error (MSE):\", mse)"
   ]
  },
  {
   "cell_type": "markdown",
   "metadata": {},
   "source": [
    "## Oh, The model score of 0.79% indicates a very low accuracy"
   ]
  },
  {
   "cell_type": "code",
   "execution_count": 52,
   "metadata": {},
   "outputs": [
    {
     "data": {
      "text/html": [
       "<div>\n",
       "<style scoped>\n",
       "    .dataframe tbody tr th:only-of-type {\n",
       "        vertical-align: middle;\n",
       "    }\n",
       "\n",
       "    .dataframe tbody tr th {\n",
       "        vertical-align: top;\n",
       "    }\n",
       "\n",
       "    .dataframe thead th {\n",
       "        text-align: right;\n",
       "    }\n",
       "</style>\n",
       "<table border=\"1\" class=\"dataframe\">\n",
       "  <thead>\n",
       "    <tr style=\"text-align: right;\">\n",
       "      <th></th>\n",
       "      <th>Model</th>\n",
       "      <th>Score</th>\n",
       "      <th>Mean Squared Error</th>\n",
       "    </tr>\n",
       "  </thead>\n",
       "  <tbody>\n",
       "    <tr>\n",
       "      <th>0</th>\n",
       "      <td>Linear Regression</td>\n",
       "      <td>0.785371</td>\n",
       "      <td>0.194611</td>\n",
       "    </tr>\n",
       "    <tr>\n",
       "      <th>1</th>\n",
       "      <td>Ridge Regression</td>\n",
       "      <td>0.785479</td>\n",
       "      <td>0.194512</td>\n",
       "    </tr>\n",
       "    <tr>\n",
       "      <th>2</th>\n",
       "      <td>Lasso Regression</td>\n",
       "      <td>-0.022377</td>\n",
       "      <td>0.927021</td>\n",
       "    </tr>\n",
       "    <tr>\n",
       "      <th>3</th>\n",
       "      <td>Random Forest</td>\n",
       "      <td>0.741240</td>\n",
       "      <td>0.234626</td>\n",
       "    </tr>\n",
       "    <tr>\n",
       "      <th>4</th>\n",
       "      <td>Gradient Boosting</td>\n",
       "      <td>0.756397</td>\n",
       "      <td>0.220883</td>\n",
       "    </tr>\n",
       "    <tr>\n",
       "      <th>5</th>\n",
       "      <td>Support Vector Machine</td>\n",
       "      <td>0.749589</td>\n",
       "      <td>0.227056</td>\n",
       "    </tr>\n",
       "  </tbody>\n",
       "</table>\n",
       "</div>"
      ],
      "text/plain": [
       "                    Model     Score  Mean Squared Error\n",
       "0       Linear Regression  0.785371            0.194611\n",
       "1        Ridge Regression  0.785479            0.194512\n",
       "2        Lasso Regression -0.022377            0.927021\n",
       "3           Random Forest  0.741240            0.234626\n",
       "4       Gradient Boosting  0.756397            0.220883\n",
       "5  Support Vector Machine  0.749589            0.227056"
      ]
     },
     "execution_count": 52,
     "metadata": {},
     "output_type": "execute_result"
    }
   ],
   "source": [
    "# let's try to use more models \n",
    "def MLmodels(X, y):\n",
    "    \n",
    "    # Define a list of models\n",
    "    models = {\n",
    "        'Linear Regression': LinearRegression(),\n",
    "        'Ridge Regression': Ridge(),\n",
    "        'Lasso Regression': Lasso(),\n",
    "        'Random Forest': RandomForestRegressor(),\n",
    "        'Gradient Boosting': GradientBoostingRegressor(),\n",
    "        'Support Vector Machine': SVR(),\n",
    "    }\n",
    "\n",
    "    # Train and evaluate each model\n",
    "    results = {'Model': [],'Score':[], 'Mean Squared Error': []}\n",
    "    for name, model in models.items():\n",
    "        model.fit(X_train, y_train)\n",
    "        y_pred = model.predict(X_test)\n",
    "        score = model.score(X_test, y_test)\n",
    "        mse = mean_squared_error(y_test, y_pred)\n",
    "        results['Model'].append(name)\n",
    "        results['Score'].append(score)\n",
    "        results['Mean Squared Error'].append(mse)\n",
    "\n",
    "    # Create a DataFrame from the results\n",
    "    results_df = pd.DataFrame(results)\n",
    "\n",
    "    return results_df\n",
    "\n",
    "results = MLmodels(X, y)\n",
    "results\n"
   ]
  },
  {
   "cell_type": "code",
   "execution_count": 55,
   "metadata": {},
   "outputs": [
    {
     "data": {
      "text/plain": [
       "0.7858358586655032"
      ]
     },
     "execution_count": 55,
     "metadata": {},
     "output_type": "execute_result"
    }
   ],
   "source": [
    "# let's use Ensemble Methods\n",
    "linear_model = LinearRegression()\n",
    "ridge_model = Ridge()\n",
    "lasso_model = Lasso()\n",
    "tree_model = DecisionTreeRegressor()\n",
    "forest_model = RandomForestRegressor()\n",
    "gb_model = GradientBoostingRegressor()\n",
    "svr_model = SVR()\n",
    "\n",
    "# Create a stacking ensemble with multiple models\n",
    "estimators = [\n",
    "    ('Linear Regression', linear_model),\n",
    "    ('Ridge Regression', ridge_model),\n",
    "    ('Lasso Regression', lasso_model),\n",
    "    ('Decision Tree', tree_model),\n",
    "    ('Random Forest', forest_model),\n",
    "    ('Gradient Boosting', gb_model),\n",
    "    ('Support Vector Machine', svr_model)\n",
    "]\n",
    "\n",
    "stacking_model = StackingRegressor(estimators=estimators, final_estimator=LinearRegression())\n",
    "\n",
    "# Train and evaluate the stacking model\n",
    "stacking_model.fit(X_train, y_train)\n",
    "stacking_score = stacking_model.score(X_test, y_test)\n",
    "stacking_score"
   ]
  },
  {
   "cell_type": "code",
   "execution_count": 56,
   "metadata": {},
   "outputs": [
    {
     "data": {
      "text/plain": [
       "0.7858776641465458"
      ]
     },
     "execution_count": 56,
     "metadata": {},
     "output_type": "execute_result"
    }
   ],
   "source": [
    "# Define individual models with hyperparameters\n",
    "linear_model = LinearRegression()\n",
    "ridge_model = Ridge(alpha=1.0)\n",
    "lasso_model = Lasso(alpha=1.0)\n",
    "tree_model = DecisionTreeRegressor(max_depth=5)\n",
    "forest_model = RandomForestRegressor(n_estimators=100, max_depth=10)\n",
    "gb_model = GradientBoostingRegressor(n_estimators=100, learning_rate=0.1, max_depth=5)\n",
    "svr_model = SVR(C=1.0, epsilon=0.2)\n",
    "\n",
    "# Choose a final estimator with hyperparameters\n",
    "final_estimator = LinearRegression()\n",
    "\n",
    "stacking_model = StackingRegressor(estimators=estimators, final_estimator=final_estimator)\n",
    "\n",
    "# Train and evaluate the stacking model\n",
    "stacking_model.fit(X_train, y_train)\n",
    "stacking_score = stacking_model.score(X_test, y_test)\n",
    "stacking_score"
   ]
  },
  {
   "cell_type": "code",
   "execution_count": 57,
   "metadata": {},
   "outputs": [
    {
     "name": "stdout",
     "output_type": "stream",
     "text": [
      "0.7888802758925013\n"
     ]
    },
    {
     "data": {
      "text/plain": [
       "{'Linear Regression': {},\n",
       " 'Ridge Regression': {'alpha': 1.0},\n",
       " 'Lasso Regression': {'alpha': 0.1},\n",
       " 'Decision Tree': {'max_depth': 5},\n",
       " 'Random Forest': {'max_depth': 5, 'n_estimators': 100},\n",
       " 'Gradient Boosting': {'learning_rate': 0.1,\n",
       "  'max_depth': 3,\n",
       "  'n_estimators': 50},\n",
       " 'Support Vector Machine': {'C': 1.0, 'epsilon': 0.2}}"
      ]
     },
     "execution_count": 57,
     "metadata": {},
     "output_type": "execute_result"
    }
   ],
   "source": [
    "# Define individual models with hyperparameters to tune\n",
    "linear_model = LinearRegression()\n",
    "ridge_model = Ridge()\n",
    "lasso_model = Lasso()\n",
    "tree_model = DecisionTreeRegressor()\n",
    "forest_model = RandomForestRegressor()\n",
    "gb_model = GradientBoostingRegressor()\n",
    "svr_model = SVR()\n",
    "\n",
    "# Define hyperparameter grids for each model\n",
    "param_grid = {\n",
    "    'Linear Regression': {},\n",
    "    'Ridge Regression': {'alpha': [0.1, 1.0, 10.0]},\n",
    "    'Lasso Regression': {'alpha': [0.1, 1.0, 10.0]},\n",
    "    'Decision Tree': {'max_depth': [None, 5, 10, 15]},\n",
    "    'Random Forest': {'n_estimators': [50, 100, 200], 'max_depth': [None, 5, 10, 15]},\n",
    "    'Gradient Boosting': {'n_estimators': [50, 100, 200], 'learning_rate': [0.01, 0.1, 0.2], 'max_depth': [3, 5, 7]},\n",
    "    'Support Vector Machine': {'C': [0.1, 1.0, 10.0], 'epsilon': [0.1, 0.2, 0.5]}\n",
    "}\n",
    "\n",
    "\n",
    "# Choose a final estimator with hyperparameters\n",
    "final_estimator = LinearRegression()\n",
    "\n",
    "# Create a dictionary to store best parameters for each model\n",
    "best_params = {}\n",
    "\n",
    "# Grid search for each model\n",
    "for name, model in estimators:\n",
    "    grid_search = GridSearchCV(model, param_grid[name], cv=5, scoring='r2')\n",
    "    grid_search.fit(X_train, y_train)\n",
    "    best_params[name] = grid_search.best_params_\n",
    "\n",
    "# Use best parameters to create models\n",
    "estimators_with_params = [(name, model.set_params(**best_params[name])) for (name, model) in estimators]\n",
    "\n",
    "stacking_model = StackingRegressor(estimators=estimators_with_params, final_estimator=final_estimator)\n",
    "\n",
    "# Train and evaluate the stacking model\n",
    "stacking_model.fit(X_train, y_train)\n",
    "stacking_score = stacking_model.score(X_test, y_test)\n",
    "print(stacking_score)\n",
    "\n",
    "# Display best parameters\n",
    "best_params\n",
    "\n"
   ]
  },
  {
   "cell_type": "markdown",
   "metadata": {},
   "source": [
    "## The accuracy is very low (0.79) because we generate this data and there are no strong relationships between them. We'll work on improving this later, or make changes to the features."
   ]
  }
 ],
 "metadata": {
  "kernelspec": {
   "display_name": "Python 3",
   "language": "python",
   "name": "python3"
  },
  "language_info": {
   "codemirror_mode": {
    "name": "ipython",
    "version": 3
   },
   "file_extension": ".py",
   "mimetype": "text/x-python",
   "name": "python",
   "nbconvert_exporter": "python",
   "pygments_lexer": "ipython3",
   "version": "3.12.0"
  }
 },
 "nbformat": 4,
 "nbformat_minor": 2
}
